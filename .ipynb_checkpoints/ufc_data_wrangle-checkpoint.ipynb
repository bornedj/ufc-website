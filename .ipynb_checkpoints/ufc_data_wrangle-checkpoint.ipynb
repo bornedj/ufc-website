{
 "cells": [
  {
   "cell_type": "markdown",
   "id": "matched-horror",
   "metadata": {},
   "source": [
    "# ufc_data_wrangle"
   ]
  },
  {
   "cell_type": "markdown",
   "id": "moving-salad",
   "metadata": {},
   "source": [
    "I will be using http://www.ufcstats.com/statistics/events/completed?page=all to collect all the fight stats in ufc history.  \n",
    "I will be using http://www.ufcstats.com/statistics/fighters?char=a&page=all to collect all the fighter stats from ufc history"
   ]
  },
  {
   "cell_type": "code",
   "execution_count": 1,
   "id": "mediterranean-conspiracy",
   "metadata": {},
   "outputs": [],
   "source": [
    "#We'll need pandas for data manipulation and bs4 for collection\n",
    "import pandas as pd\n",
    "from bs4 import BeautifulSoup\n",
    "import requests\n",
    "import re\n",
    "import collections #we will declare an dictionary with empty lists for values\n",
    "import numpy as np\n",
    "from tqdm import tqdm "
   ]
  },
  {
   "cell_type": "markdown",
   "id": "virgin-strategy",
   "metadata": {},
   "source": [
    "## Link acquisition\n",
    "We will need all the individual fights as links to create the dataset"
   ]
  },
  {
   "cell_type": "code",
   "execution_count": 2,
   "id": "worse-profession",
   "metadata": {},
   "outputs": [],
   "source": [
    "#creating our soup\n",
    "url = 'http://www.ufcstats.com/statistics/events/completed?page=all'\n",
    "html = requests.get(url).text\n",
    "soup = BeautifulSoup(html, 'html5lib')\n",
    "#soup"
   ]
  },
  {
   "cell_type": "code",
   "execution_count": 3,
   "id": "pharmaceutical-interval",
   "metadata": {},
   "outputs": [],
   "source": [
    "#gathering all the event urls and dates\n",
    "events = soup.find_all(href = re.compile('event-details'))\n",
    "event_urls = []\n",
    "\n",
    "for event in events:\n",
    "    event_urls.append(event.get('href'))\n",
    "#event_urls\n",
    "\n",
    "events = soup.find_all(class_ = 'b-statistics__date')\n",
    "event_dates = [event.text.strip() for event in events]\n",
    "event_info = zip(event_urls, event_dates)"
   ]
  },
  {
   "cell_type": "code",
   "execution_count": 4,
   "id": "creative-stationery",
   "metadata": {},
   "outputs": [
    {
     "name": "stderr",
     "output_type": "stream",
     "text": [
      "549it [04:10,  2.20it/s]\n"
     ]
    }
   ],
   "source": [
    "#getting all fight urls\n",
    "fight_urls = []\n",
    "for info in tqdm(event_info):\n",
    "    html = requests.get(info[0]).text\n",
    "    soup = BeautifulSoup(html, 'html5lib')\n",
    "    fight_tags = soup.find_all('a', \"b-flag b-flag_style_green\")\n",
    "    for tag in fight_tags:\n",
    "        fight_urls.append((tag.get('href'), info[1]))"
   ]
  },
  {
   "cell_type": "code",
   "execution_count": 5,
   "id": "negative-alberta",
   "metadata": {},
   "outputs": [
    {
     "data": {
      "text/plain": [
       "\"url_csv = pd.Series(fight_urls)\\nurl_csv.to_csv('fight_urls.csv')\""
      ]
     },
     "execution_count": 5,
     "metadata": {},
     "output_type": "execute_result"
    }
   ],
   "source": [
    "fight_urls\n",
    "'''url_csv = pd.Series(fight_urls)\n",
    "url_csv.to_csv('fight_urls.csv')'''"
   ]
  },
  {
   "cell_type": "markdown",
   "id": "lyric-punch",
   "metadata": {},
   "source": [
    "## Dataset creation\n",
    "We now have the urls to all the fight stats so we will create a dictionary to store all the information and to convert to a pd.DataFrame  \n",
    "We will do this by looping throught the list of fight urls and we will call functions to add to the dictionary"
   ]
  },
  {
   "cell_type": "code",
   "execution_count": 6,
   "id": "going-diversity",
   "metadata": {},
   "outputs": [],
   "source": [
    "#creating the dictionary to be which will become our pd dataframe\n",
    "#r is for red\n",
    "#b is for blue\n",
    "#using the key_list as a reference for myself\n",
    "key_list = ['r_fighter', 'b_fighter', 'title_bout', 'winner', 'weight_class', 'win_con', 'num_rounds', 'round_length',\n",
    "            'r_kd', 'b_kd', 'r_sig_str', 'b_sig_str', 'r_sig_str_per', 'b_sig_str_per', 'r_total_str', 'b_total_str', 'r_td', 'b_td', 'r_td_per',\n",
    "'b_td_per', 'r_sub_att', 'b_sub_att', 'r_rev', 'b_rev', 'r_ctrl', 'b_ctrl', 'r_sig_head','b_sig_head','r_sig_body','b_sig_body',\n",
    "     'r_sig_leg', 'b_sig_leg', 'r_distance', 'b_distance', 'r_clinch', 'b_clinch', 'r_ground', 'b_ground']\n",
    "d_fight_stats = collections.defaultdict(list)"
   ]
  },
  {
   "cell_type": "code",
   "execution_count": 7,
   "id": "generous-recall",
   "metadata": {},
   "outputs": [],
   "source": [
    "#creating a function to add the things in fight stats to the data frame\n",
    "def add_fight_stats(fight_stats):\n",
    "    try:\n",
    "        d_fight_stats['r_fighter'].append(fight_stats[0])\n",
    "        d_fight_stats['b_fighter'].append(fight_stats[1])\n",
    "        d_fight_stats['r_kd'].append(fight_stats[2])\n",
    "        d_fight_stats['b_kd'].append(fight_stats[3])\n",
    "        d_fight_stats['r_sig_str'].append(fight_stats[4])\n",
    "        d_fight_stats['b_sig_str'].append(fight_stats[5])\n",
    "        d_fight_stats['r_sig_str_per'].append(fight_stats[6])\n",
    "        d_fight_stats['b_sig_str_per'].append(fight_stats[7])\n",
    "        d_fight_stats['r_total_str'].append(fight_stats[8])\n",
    "        d_fight_stats['b_total_str'].append(fight_stats[9])\n",
    "        d_fight_stats['r_td'].append(fight_stats[10])\n",
    "        d_fight_stats['b_td'].append(fight_stats[11])\n",
    "        d_fight_stats['r_td_per'].append(fight_stats[12])\n",
    "        d_fight_stats['b_td_per'].append(fight_stats[13])\n",
    "        d_fight_stats['r_sub_att'].append(fight_stats[14])\n",
    "        d_fight_stats['b_sub_att'].append(fight_stats[15])\n",
    "        d_fight_stats['r_rev'].append(fight_stats[16])\n",
    "        d_fight_stats['b_rev'].append(fight_stats[17])\n",
    "        d_fight_stats['r_ctrl'].append(fight_stats[18])\n",
    "        d_fight_stats['b_ctrl'].append(fight_stats[19])\n",
    "        d_fight_stats['r_sig_head'].append(fight_stats[26])#skip to 26 since names and stats are listed twice\n",
    "        d_fight_stats['b_sig_head'].append(fight_stats[27])\n",
    "        d_fight_stats['r_sig_body'].append(fight_stats[28])\n",
    "        d_fight_stats['b_sig_body'].append(fight_stats[29])\n",
    "        d_fight_stats['r_sig_leg'].append(fight_stats[30])\n",
    "        d_fight_stats['b_sig_leg'].append(fight_stats[31])\n",
    "        d_fight_stats['r_distance'].append(fight_stats[32])\n",
    "        d_fight_stats['b_distance'].append(fight_stats[33])\n",
    "        d_fight_stats['r_clinch'].append(fight_stats[34])\n",
    "        d_fight_stats['b_clinch'].append(fight_stats[35])\n",
    "        d_fight_stats['r_ground'].append(fight_stats[36])\n",
    "        d_fight_stats['b_ground'].append(fight_stats[37])\n",
    "\n",
    "    except:\n",
    "        d_fight_stats['r_fighter'].append(None)\n",
    "        d_fight_stats['b_fighter'].append(None)\n",
    "        d_fight_stats['r_kd'].append(None)\n",
    "        d_fight_stats['b_kd'].append(None)\n",
    "        d_fight_stats['r_sig_str'].append(None)\n",
    "        d_fight_stats['b_sig_str'].append(None)\n",
    "        d_fight_stats['r_sig_str_per'].append(None)\n",
    "        d_fight_stats['b_sig_str_per'].append(None)\n",
    "        d_fight_stats['r_total_str'].append(None)\n",
    "        d_fight_stats['b_total_str'].append(None)\n",
    "        d_fight_stats['r_td'].append(None)\n",
    "        d_fight_stats['b_td'].append(None)\n",
    "        d_fight_stats['r_td_per'].append(None)\n",
    "        d_fight_stats['b_td_per'].append(None)\n",
    "        d_fight_stats['r_sub_att'].append(None)\n",
    "        d_fight_stats['b_sub_att'].append(None)\n",
    "        d_fight_stats['r_rev'].append(None)\n",
    "        d_fight_stats['b_rev'].append(None)\n",
    "        d_fight_stats['r_ctrl'].append(None)\n",
    "        d_fight_stats['b_ctrl'].append(None)\n",
    "        d_fight_stats['r_sig_head'].append(None)\n",
    "        d_fight_stats['b_sig_head'].append(None)\n",
    "        d_fight_stats['r_sig_body'].append(None)\n",
    "        d_fight_stats['b_sig_body'].append(None)\n",
    "        d_fight_stats['r_sig_leg'].append(None)\n",
    "        d_fight_stats['b_sig_leg'].append(None)\n",
    "        d_fight_stats['r_distance'].append(None)\n",
    "        d_fight_stats['b_distance'].append(None)\n",
    "        d_fight_stats['r_clinch'].append(None)\n",
    "        d_fight_stats['b_clinch'].append(None)\n",
    "        d_fight_stats['r_ground'].append(None)\n",
    "        d_fight_stats['b_ground'].append(None)\n"
   ]
  },
  {
   "cell_type": "code",
   "execution_count": 8,
   "id": "refined-strike",
   "metadata": {},
   "outputs": [],
   "source": [
    "#creating our function to extract from the i_tags\n",
    "def add_i_tags(i_tags):\n",
    "    #deciding which corner won, the red corner is always first\n",
    "    if i_tags[0] == 'W':\n",
    "        d_fight_stats['winner'].append('r')\n",
    "    elif i_tags[0] == 'L':\n",
    "        d_fight_stats['winner'].append('b')\n",
    "\n",
    "    #checking for a title bout\n",
    "    if ('title bout' in i_tags[2].lower()):\n",
    "        d_fight_stats['title_bout'].append(True)\n",
    "    else:\n",
    "        d_fight_stats['title_bout'].append(False)\n",
    "\n",
    "    #adding the winning condition\n",
    "    d_fight_stats['win_con'].append(i_tags[5])\n",
    "\n",
    "    #adding the weight class\n",
    "    stop_words = ['bout','title','ufc'] #these are potential words that can appear that we want to remove\n",
    "    words = i_tags[2].split()#splitting words so we can remove them\n",
    "    weight_class = [word for word in words if word.lower() not in stop_words]\n",
    "    result = ' '.join(weight_class)#incase of women's weight class we will join them into one string with a space between them\n",
    "    d_fight_stats['weight_class'].append(result)\n",
    "\n",
    "    #getting the number of rounds\n",
    "    d_fight_stats['num_rounds'].append(int(i_tags[6][-1]))\n",
    "\n",
    "    #getting the length of the rounds\n",
    "    d_fight_stats['round_length'].append(int(i_tags[8][-4]))"
   ]
  },
  {
   "cell_type": "code",
   "execution_count": 9,
   "id": "taken-bermuda",
   "metadata": {},
   "outputs": [
    {
     "name": "stderr",
     "output_type": "stream",
     "text": [
      "100%|████████████████████████████████████████████████████████████████████████████| 5845/5845 [1:13:01<00:00,  1.33it/s]\n"
     ]
    }
   ],
   "source": [
    "#getting the stats from each fight to build the fight dataset\n",
    "for fight in tqdm(fight_urls):\n",
    "    html = requests.get(fight[0]).text\n",
    "    soup = BeautifulSoup(html, 'html5lib')\n",
    "    tbody = soup.find_all('tbody', class_ = \"b-fight-details__table-body\")\n",
    "    children = []\n",
    "    try:\n",
    "        for child in tbody[0].children:#tbody[0] only contains one of the tables we need\n",
    "            children.append(child)\n",
    "        tags =[]\n",
    "        tags.append(children[1])# we only care about this child since it has the relevant info\n",
    "        children = []#resetting children\n",
    "        for child in tbody[2].children:\n",
    "            children.append(child)\n",
    "        tags.append(children[1])\n",
    "\n",
    "        fight_stat_tags = [tag.find_all('p','b-fight-details__table-text') for tag in tags]\n",
    "        stats = []\n",
    "        for stat in fight_stat_tags[0]:\n",
    "            stats.append(stat.get_text().strip())\n",
    "        for stat in fight_stat_tags[1]:\n",
    "            stats.append(stat.get_text().strip())\n",
    "\n",
    "        #getting the other information from the fight url\n",
    "        i_tags = [i.get_text().strip() for i in soup('i')]\n",
    "        i_tags\n",
    "\n",
    "        #calling the functions that will append our dictionary\n",
    "        add_fight_stats(stats)\n",
    "        d_fight_stats['date'].append(fight[1])#appending the data\n",
    "        add_i_tags(i_tags)\n",
    "    except:\n",
    "        continue\n"
   ]
  },
  {
   "cell_type": "code",
   "execution_count": 10,
   "id": "native-suicide",
   "metadata": {},
   "outputs": [],
   "source": [
    "fight_stats_df = pd.DataFrame(d_fight_stats)\n",
    "fight_stats_df.to_csv('unprocessed_fight_data.csv', index = False)"
   ]
  },
  {
   "cell_type": "markdown",
   "id": "confident-aircraft",
   "metadata": {},
   "source": [
    "## Cleaning the fight dataset\n",
    "There are some columns that need to be cleaned to useful for my analysis.  This includes all the strikes columns since they are in the format of \"0 of 0\", the percentage columns are currently strings, as well as control time which we will convert into seconds."
   ]
  },
  {
   "cell_type": "code",
   "execution_count": 11,
   "id": "fuzzy-retail",
   "metadata": {},
   "outputs": [],
   "source": [
    "'''\n",
    "Reading the current csv since I don't want to wait for the scrape to re run.\n",
    "This will be commented out later\n",
    "'''\n",
    "fight_stats_df = pd.read_csv('unprocessed_fight_data.csv')"
   ]
  },
  {
   "cell_type": "code",
   "execution_count": 12,
   "id": "monetary-carol",
   "metadata": {},
   "outputs": [
    {
     "data": {
      "text/plain": [
       "\"for col in fight_stats_df:#looking at missing value counts to see how many rows need to be dropped\\n    print(col, '\\n', fight_stats_df[col].isna().value_counts())\""
      ]
     },
     "execution_count": 12,
     "metadata": {},
     "output_type": "execute_result"
    }
   ],
   "source": [
    "#commenting out since we don't need to see this everytime\n",
    "'''for col in fight_stats_df:#looking at missing value counts to see how many rows need to be dropped\n",
    "    print(col, '\\n', fight_stats_df[col].isna().value_counts())'''"
   ]
  },
  {
   "cell_type": "code",
   "execution_count": 13,
   "id": "motivated-authorization",
   "metadata": {},
   "outputs": [
    {
     "data": {
      "text/plain": [
       "(5824, 39)"
      ]
     },
     "execution_count": 13,
     "metadata": {},
     "output_type": "execute_result"
    }
   ],
   "source": [
    "#dropping the rows with missing values since they appear to be missing several amounts and it's better to drop than impute values in this case\n",
    "fight_stats_df = fight_stats_df.dropna()\n",
    "fight_stats_df.shape"
   ]
  },
  {
   "cell_type": "code",
   "execution_count": 14,
   "id": "instant-parish",
   "metadata": {},
   "outputs": [],
   "source": [
    "#function to convert the string percents to floats\n",
    "def per_to_float(percent):\n",
    "    try:\n",
    "        search = re.search('[0-9]*',percent)\n",
    "        percent = float(percent[:search.end()])\n",
    "        return percent/100\n",
    "    except:#since we dropped the na data, the only values that catch the except come from no attempts\n",
    "        return 0"
   ]
  },
  {
   "cell_type": "code",
   "execution_count": 15,
   "id": "classical-chancellor",
   "metadata": {},
   "outputs": [],
   "source": [
    "#applying the function to the revelant columns\n",
    "fight_stats_df['r_sig_str_per'] = fight_stats_df['r_sig_str_per'].apply(per_to_float)\n",
    "fight_stats_df['b_sig_str_per'] = fight_stats_df['b_sig_str_per'].apply(per_to_float)\n",
    "fight_stats_df['r_td_per'] = fight_stats_df['r_td_per'].apply(per_to_float)\n",
    "fight_stats_df['b_td_per'] = fight_stats_df['b_td_per'].apply(per_to_float)"
   ]
  },
  {
   "cell_type": "code",
   "execution_count": 16,
   "id": "future-second",
   "metadata": {},
   "outputs": [],
   "source": [
    "#adding the fight length column\n",
    "fight_stats_df['fight_length'] = None"
   ]
  },
  {
   "cell_type": "code",
   "execution_count": 17,
   "id": "developing-terminology",
   "metadata": {},
   "outputs": [],
   "source": [
    "#getting fight lenght in minutes\n",
    "def fight_length(row):\n",
    "    length = 0\n",
    "    if fight_stats_df['num_rounds'][row] == 1:\n",
    "        fight_stats_df['fight_length'][row] = fight_stats_df['round_length'][row]\n",
    "    else:\n",
    "        for _round in range(fight_stats_df['num_rounds'][row]-1):#for every round but the last the time is 5 minutes\n",
    "            length +=5\n",
    "            \n",
    "        length+= fight_stats_df['round_length'][row]#adding the last rounds time\n",
    "        fight_stats_df['fight_length'][row] = length"
   ]
  },
  {
   "cell_type": "code",
   "execution_count": 18,
   "id": "original-cosmetic",
   "metadata": {},
   "outputs": [],
   "source": [
    "#need to reindex the df since we removed some columns\n",
    "fight_stats_df = fight_stats_df.reset_index(drop=True)"
   ]
  },
  {
   "cell_type": "code",
   "execution_count": 19,
   "id": "expired-example",
   "metadata": {},
   "outputs": [
    {
     "name": "stderr",
     "output_type": "stream",
     "text": [
      "C:\\Users\\danie\\python_stuff\\Anaconda\\lib\\site-packages\\ipykernel_launcher.py:11: SettingWithCopyWarning: \n",
      "A value is trying to be set on a copy of a slice from a DataFrame\n",
      "\n",
      "See the caveats in the documentation: https://pandas.pydata.org/pandas-docs/stable/user_guide/indexing.html#returning-a-view-versus-a-copy\n",
      "  # This is added back by InteractiveShellApp.init_path()\n",
      "C:\\Users\\danie\\python_stuff\\Anaconda\\lib\\site-packages\\ipykernel_launcher.py:5: SettingWithCopyWarning: \n",
      "A value is trying to be set on a copy of a slice from a DataFrame\n",
      "\n",
      "See the caveats in the documentation: https://pandas.pydata.org/pandas-docs/stable/user_guide/indexing.html#returning-a-view-versus-a-copy\n",
      "  \"\"\"\n"
     ]
    }
   ],
   "source": [
    "for i in range(len(fight_stats_df)):\n",
    "    fight_length(i)"
   ]
  },
  {
   "cell_type": "code",
   "execution_count": 20,
   "id": "sealed-pledge",
   "metadata": {},
   "outputs": [],
   "source": [
    "#getting accuracy/percentages\n",
    "def accuracy(info):\n",
    "    split = info.split(' ')\n",
    "    try:\n",
    "        return (float(split[0])/float(split[2]))\n",
    "    except:\n",
    "        return 0"
   ]
  },
  {
   "cell_type": "code",
   "execution_count": 21,
   "id": "vital-biography",
   "metadata": {},
   "outputs": [],
   "source": [
    "#applying the function\n",
    "fight_stats_df['r_str_acc'] = fight_stats_df['r_total_str'].apply(accuracy)\n",
    "fight_stats_df['b_str_acc'] = fight_stats_df['b_total_str'].apply(accuracy)\n",
    "fight_stats_df['r_distance_acc'] = fight_stats_df['r_distance'].apply(accuracy)\n",
    "fight_stats_df['b_distance_acc'] = fight_stats_df['b_distance'].apply(accuracy)\n",
    "fight_stats_df['r_head_acc'] = fight_stats_df['r_sig_head'].apply(accuracy)\n",
    "fight_stats_df['b_head_acc'] = fight_stats_df['b_sig_head'].apply(accuracy)\n",
    "fight_stats_df['r_body_acc'] = fight_stats_df['r_sig_body'].apply(accuracy)\n",
    "fight_stats_df['b_body_acc'] = fight_stats_df['b_sig_body'].apply(accuracy)\n",
    "fight_stats_df['r_leg_acc'] = fight_stats_df['r_sig_leg'].apply(accuracy)\n",
    "fight_stats_df['b_leg_acc'] = fight_stats_df['b_sig_leg'].apply(accuracy)\n",
    "fight_stats_df['r_ground_acc'] = fight_stats_df['r_ground'].apply(accuracy)\n",
    "fight_stats_df['b_ground_acc'] = fight_stats_df['b_ground'].apply(accuracy)\n",
    "fight_stats_df['r_clinch_acc'] = fight_stats_df['r_clinch'].apply(accuracy)"
   ]
  },
  {
   "cell_type": "code",
   "execution_count": 22,
   "id": "handed-pressing",
   "metadata": {},
   "outputs": [],
   "source": [
    "#creating the functions to format the strikes landed\n",
    "def of_format(to_format):# calling this of format because its formatted as 0 of 0 strikes\n",
    "    split = to_format.split(' ')\n",
    "    return int(split[0])"
   ]
  },
  {
   "cell_type": "code",
   "execution_count": 23,
   "id": "homeless-treaty",
   "metadata": {},
   "outputs": [],
   "source": [
    "#applying of_format to all columns that apply\n",
    "fight_stats_df['r_sig_str'] = fight_stats_df['r_sig_str'].apply(of_format)\n",
    "fight_stats_df['b_sig_str'] = fight_stats_df['b_sig_str'].apply(of_format)\n",
    "fight_stats_df['r_total_str'] = fight_stats_df['r_total_str'].apply(of_format)\n",
    "fight_stats_df['b_total_str'] = fight_stats_df['b_total_str'].apply(of_format)\n",
    "fight_stats_df['r_ground'] = fight_stats_df['r_ground'].apply(of_format)\n",
    "fight_stats_df['b_ground'] = fight_stats_df['b_ground'].apply(of_format)\n",
    "fight_stats_df['r_clinch'] = fight_stats_df['r_clinch'].apply(of_format)\n",
    "fight_stats_df['b_clinch'] = fight_stats_df['b_clinch'].apply(of_format)\n",
    "fight_stats_df['r_distance'] = fight_stats_df['r_distance'].apply(of_format)\n",
    "fight_stats_df['b_distance'] = fight_stats_df['b_distance'].apply(of_format)\n",
    "fight_stats_df['r_sig_head'] = fight_stats_df['r_sig_head'].apply(of_format)\n",
    "fight_stats_df['b_sig_head'] = fight_stats_df['b_sig_head'].apply(of_format)\n",
    "fight_stats_df['r_sig_body'] = fight_stats_df['r_sig_body'].apply(of_format)\n",
    "fight_stats_df['b_sig_body'] = fight_stats_df['b_sig_body'].apply(of_format)\n",
    "fight_stats_df['r_sig_leg'] = fight_stats_df['r_sig_leg'].apply(of_format)\n",
    "fight_stats_df['b_sig_leg'] = fight_stats_df['b_sig_leg'].apply(of_format)\n",
    "fight_stats_df['r_td'] = fight_stats_df['r_td'].apply(of_format)\n",
    "fight_stats_df['b_td'] = fight_stats_df['b_td'].apply(of_format)"
   ]
  },
  {
   "cell_type": "code",
   "execution_count": 24,
   "id": "mature-rendering",
   "metadata": {},
   "outputs": [],
   "source": [
    "#function to convert control time to seconds\n",
    "def clean_ctrl(crtl):\n",
    "    try:#missing data is given --\n",
    "        split = crtl.split(':')\n",
    "        if int(split[0])==0 and int(split[1])==0:\n",
    "            return 0\n",
    "        else:\n",
    "            return (int(split[0])*60 + int(split[1]))\n",
    "    except:\n",
    "        return 0"
   ]
  },
  {
   "cell_type": "code",
   "execution_count": 25,
   "id": "traditional-communist",
   "metadata": {},
   "outputs": [],
   "source": [
    "fight_stats_df['r_ctrl'] = fight_stats_df['r_ctrl'].apply(clean_ctrl)\n",
    "fight_stats_df['b_ctrl'] = fight_stats_df['b_ctrl'].apply(clean_ctrl)"
   ]
  },
  {
   "cell_type": "code",
   "execution_count": 26,
   "id": "bronze-michael",
   "metadata": {},
   "outputs": [],
   "source": [
    "fight_stats_df.to_csv('processed_fight_data.csv', index = False)"
   ]
  },
  {
   "cell_type": "code",
   "execution_count": 23,
   "id": "possible-investment",
   "metadata": {},
   "outputs": [
    {
     "data": {
      "text/html": [
       "<div>\n",
       "<style scoped>\n",
       "    .dataframe tbody tr th:only-of-type {\n",
       "        vertical-align: middle;\n",
       "    }\n",
       "\n",
       "    .dataframe tbody tr th {\n",
       "        vertical-align: top;\n",
       "    }\n",
       "\n",
       "    .dataframe thead th {\n",
       "        text-align: right;\n",
       "    }\n",
       "</style>\n",
       "<table border=\"1\" class=\"dataframe\">\n",
       "  <thead>\n",
       "    <tr style=\"text-align: right;\">\n",
       "      <th></th>\n",
       "      <th>r_ctrl</th>\n",
       "      <th>b_ctrl</th>\n",
       "    </tr>\n",
       "  </thead>\n",
       "  <tbody>\n",
       "    <tr>\n",
       "      <th>5637</th>\n",
       "      <td>NaN</td>\n",
       "      <td>NaN</td>\n",
       "    </tr>\n",
       "    <tr>\n",
       "      <th>5647</th>\n",
       "      <td>NaN</td>\n",
       "      <td>NaN</td>\n",
       "    </tr>\n",
       "    <tr>\n",
       "      <th>5648</th>\n",
       "      <td>NaN</td>\n",
       "      <td>NaN</td>\n",
       "    </tr>\n",
       "    <tr>\n",
       "      <th>5649</th>\n",
       "      <td>NaN</td>\n",
       "      <td>NaN</td>\n",
       "    </tr>\n",
       "    <tr>\n",
       "      <th>5650</th>\n",
       "      <td>NaN</td>\n",
       "      <td>NaN</td>\n",
       "    </tr>\n",
       "    <tr>\n",
       "      <th>...</th>\n",
       "      <td>...</td>\n",
       "      <td>...</td>\n",
       "    </tr>\n",
       "    <tr>\n",
       "      <th>5819</th>\n",
       "      <td>NaN</td>\n",
       "      <td>NaN</td>\n",
       "    </tr>\n",
       "    <tr>\n",
       "      <th>5820</th>\n",
       "      <td>NaN</td>\n",
       "      <td>NaN</td>\n",
       "    </tr>\n",
       "    <tr>\n",
       "      <th>5821</th>\n",
       "      <td>NaN</td>\n",
       "      <td>NaN</td>\n",
       "    </tr>\n",
       "    <tr>\n",
       "      <th>5822</th>\n",
       "      <td>NaN</td>\n",
       "      <td>NaN</td>\n",
       "    </tr>\n",
       "    <tr>\n",
       "      <th>5823</th>\n",
       "      <td>NaN</td>\n",
       "      <td>NaN</td>\n",
       "    </tr>\n",
       "  </tbody>\n",
       "</table>\n",
       "<p>178 rows × 2 columns</p>\n",
       "</div>"
      ],
      "text/plain": [
       "      r_ctrl  b_ctrl\n",
       "5637     NaN     NaN\n",
       "5647     NaN     NaN\n",
       "5648     NaN     NaN\n",
       "5649     NaN     NaN\n",
       "5650     NaN     NaN\n",
       "...      ...     ...\n",
       "5819     NaN     NaN\n",
       "5820     NaN     NaN\n",
       "5821     NaN     NaN\n",
       "5822     NaN     NaN\n",
       "5823     NaN     NaN\n",
       "\n",
       "[178 rows x 2 columns]"
      ]
     },
     "execution_count": 23,
     "metadata": {},
     "output_type": "execute_result"
    }
   ],
   "source": [
    "fight_stats_df.loc[fight_stats_df['r_ctrl'].isna(), 'r_ctrl':'b_ctrl']"
   ]
  },
  {
   "cell_type": "markdown",
   "id": "thermal-driving",
   "metadata": {},
   "source": [
    "## Fighter dataset\n",
    "Now that I have created the fight stats data set it's time to work on the fighter dataset which will be merged with the fight stats."
   ]
  },
  {
   "cell_type": "markdown",
   "id": "multiple-engineering",
   "metadata": {},
   "source": [
    "The ufc stats website can only show all names under each letter at a time so I will loop through the site changing the url slightly."
   ]
  },
  {
   "cell_type": "code",
   "execution_count": 28,
   "id": "yellow-scholarship",
   "metadata": {},
   "outputs": [
    {
     "ename": "KeyboardInterrupt",
     "evalue": "",
     "output_type": "error",
     "traceback": [
      "\u001b[1;31m---------------------------------------------------------------------------\u001b[0m",
      "\u001b[1;31mKeyboardInterrupt\u001b[0m                         Traceback (most recent call last)",
      "\u001b[1;32m<ipython-input-28-687e6768d90a>\u001b[0m in \u001b[0;36m<module>\u001b[1;34m\u001b[0m\n\u001b[0;32m     10\u001b[0m     \u001b[0mfighter_urls_duplicates\u001b[0m \u001b[1;33m=\u001b[0m \u001b[1;33m[\u001b[0m\u001b[0mtag\u001b[0m\u001b[1;33m.\u001b[0m\u001b[0mget\u001b[0m\u001b[1;33m(\u001b[0m\u001b[1;34m'href'\u001b[0m\u001b[1;33m)\u001b[0m \u001b[1;32mfor\u001b[0m \u001b[0mtag\u001b[0m \u001b[1;32min\u001b[0m \u001b[0ma_tags\u001b[0m\u001b[1;33m]\u001b[0m\u001b[1;33m\u001b[0m\u001b[1;33m\u001b[0m\u001b[0m\n\u001b[0;32m     11\u001b[0m \u001b[1;33m\u001b[0m\u001b[0m\n\u001b[1;32m---> 12\u001b[1;33m     \u001b[1;32mfor\u001b[0m \u001b[0murl\u001b[0m \u001b[1;32min\u001b[0m \u001b[0mfighter_urls_duplicates\u001b[0m\u001b[1;33m:\u001b[0m\u001b[1;33m\u001b[0m\u001b[1;33m\u001b[0m\u001b[0m\n\u001b[0m\u001b[0;32m     13\u001b[0m         \u001b[1;32mif\u001b[0m \u001b[0murl\u001b[0m \u001b[1;32mnot\u001b[0m \u001b[1;32min\u001b[0m \u001b[0mfighter_urls\u001b[0m\u001b[1;33m:\u001b[0m\u001b[1;33m\u001b[0m\u001b[1;33m\u001b[0m\u001b[0m\n\u001b[0;32m     14\u001b[0m             \u001b[0mfighter_urls\u001b[0m\u001b[1;33m.\u001b[0m\u001b[0mappend\u001b[0m\u001b[1;33m(\u001b[0m\u001b[0murl\u001b[0m\u001b[1;33m)\u001b[0m\u001b[1;33m\u001b[0m\u001b[1;33m\u001b[0m\u001b[0m\n",
      "\u001b[1;31mKeyboardInterrupt\u001b[0m: "
     ]
    }
   ],
   "source": [
    "import string\n",
    "alphabet = string.ascii_lowercase\n",
    "\n",
    "fighter_urls = []\n",
    "for letter in alphabet:    \n",
    "    url = f'http://www.ufcstats.com/statistics/fighters?char={letter}&page=all'\n",
    "    html = requests.get(url).text\n",
    "    soup = BeautifulSoup(html, 'html5lib')\n",
    "    a_tags = soup.find_all('a', href=re.compile('fighter-details'))\n",
    "    fighter_urls_duplicates = [tag.get('href') for tag in a_tags]\n",
    "    \n",
    "    for url in fighter_urls_duplicates:\n",
    "        if url not in fighter_urls:\n",
    "            fighter_urls.append(url)\n",
    "#fighter_urls"
   ]
  },
  {
   "cell_type": "raw",
   "id": "cordless-bruce",
   "metadata": {},
   "source": [
    "Scraping from each fighter's page"
   ]
  },
  {
   "cell_type": "code",
   "execution_count": null,
   "id": "weird-kruger",
   "metadata": {},
   "outputs": [],
   "source": [
    "d_fighter = collections.defaultdict(list)"
   ]
  },
  {
   "cell_type": "code",
   "execution_count": null,
   "id": "ordered-officer",
   "metadata": {},
   "outputs": [],
   "source": [
    "import datetime\n",
    "from datetime import date\n",
    "def fighter_scrape(url):\n",
    "    html = requests.get(url).text\n",
    "    soup = BeautifulSoup(html, 'html5lib')\n",
    "\n",
    "    #getting their name\n",
    "    fighter_name = soup.find(class_=\"b-content__title-highlight\").get_text().strip()\n",
    "\n",
    "    #getting their record\n",
    "    record_search = re.search('[0-9]*-[0-9]*-[0-9]',soup.find(class_=\"b-content__title-record\").get_text().strip())\n",
    "    record = soup.find(class_=\"b-content__title-record\").get_text().strip()[record_search.start():record_search.end()]\n",
    "    wins = int(record.split('-')[0])\n",
    "    draws = int(record.split('-')[2])\n",
    "    losses = int(record.split('-')[1])\n",
    "\n",
    "    #getting current consecutive wins\n",
    "    ufc_record_raw = soup.find_all(class_=\"b-flag__text\")\n",
    "    ufc_record = [fight.get_text() for fight in ufc_record_raw]\n",
    "    counter = 0\n",
    "    for fight in ufc_record:\n",
    "        if fight =='win':\n",
    "            counter+=1\n",
    "        elif fight == 'next':\n",
    "            continue\n",
    "        else:\n",
    "            current_consecutive_wins = counter\n",
    "            break\n",
    "    current_consecutive_wins = counter #this catches all undefeated fighters\n",
    "\n",
    "    #getting fighter stats\n",
    "    boxes = soup.find_all('li','b-list__box-list-item b-list__box-list-item_type_block')\n",
    "    raw_info = [box.get_text().strip() for box in boxes]\n",
    "    del raw_info[9]#there is an empty line in the raw_info list always at index 9\n",
    "\n",
    "    info = []\n",
    "    for stat in raw_info:\n",
    "        stat = stat.replace('\\n', '')\n",
    "        stat = stat.replace(' ', '')\n",
    "        stat = stat.split(':')\n",
    "        info.append(stat[1])\n",
    "\n",
    "    try:\n",
    "        #cleaning and converting data types before adding to dictionary\n",
    "        #converting height into inches\n",
    "        ints = [int(char) for char in info[0] if char.isnumeric()]\n",
    "        info[0] = ints[0]*12 + ints[1]\n",
    "\n",
    "        #converting weight to an integer\n",
    "        search = re.search('[a-z]',info[1])\n",
    "        info[1] = int(info[1][:search.start()])\n",
    "\n",
    "        #converting reach to an integer\n",
    "        search = re.search('[0-9]*',info[2])\n",
    "        info[2] = int(info[2][:search.end()])\n",
    "\n",
    "        #converting date of birth to a date\n",
    "        info[4] = datetime.datetime.strptime(info[4],'%b%d,%Y').date()\n",
    "\n",
    "        #function to find age\n",
    "        def calculate_age(born):\n",
    "            today = date.today()\n",
    "            return today.year - born.year - ((today.month, today.day) < (born.month, born.day))\n",
    "\n",
    "        #converting sig strikes per minute to float\n",
    "        info[5] = float(info[5])\n",
    "    except:\n",
    "        return None\n",
    "\n",
    "    #converting percentages to floats\n",
    "    '''\n",
    "    def per_to_float(percent):\n",
    "        search = re.search('[0-9]*',percent)\n",
    "        percent = float(percent[:search.end()])\n",
    "        return percent/100\n",
    "    '''\n",
    "    \n",
    "    #appending the dictionary\n",
    "    d_fighter['fighter_name'].append(fighter_name)\n",
    "    d_fighter['wins'].append(wins)\n",
    "    d_fighter['losses'].append(losses)\n",
    "    d_fighter['draws'].append(draws)\n",
    "    d_fighter['consec_wins'].append(current_consecutive_wins)\n",
    "    d_fighter['height_in'].append(info[0])\n",
    "    d_fighter['weight_lbs'].append(info[1])\n",
    "    d_fighter['reach_in'].append(info[2])\n",
    "    d_fighter['stance'].append(info[3])\n",
    "    d_fighter['DOB'].append(info[4])\n",
    "    d_fighter['age'].append(calculate_age(info[4]))\n",
    "    d_fighter['SLpM'].append(info[5])\n",
    "    d_fighter['str_acc'].append(per_to_float(info[6]))\n",
    "    d_fighter['SApM'].append(float(info[7]))\n",
    "    d_fighter['str_def'].append(per_to_float(info[8]))\n",
    "    d_fighter['td_avg'].append(float(info[9]))\n",
    "    d_fighter['td_acc'].append(per_to_float(info[10]))\n",
    "    d_fighter['td_def'].append(per_to_float(info[11]))\n",
    "    d_fighter['sub_avg'].append(float(info[12]))"
   ]
  },
  {
   "cell_type": "code",
   "execution_count": 126,
   "id": "focal-eleven",
   "metadata": {},
   "outputs": [
    {
     "name": "stderr",
     "output_type": "stream",
     "text": [
      "100%|██████████████████████████████████████████████████████████████████████████████| 3593/3593 [21:57<00:00,  2.73it/s]\n"
     ]
    }
   ],
   "source": [
    "#looping through each fighters page\n",
    "for fighter in tqdm(fighter_urls):\n",
    "    fighter_scrape(fighter)"
   ]
  },
  {
   "cell_type": "code",
   "execution_count": 127,
   "id": "golden-uruguay",
   "metadata": {},
   "outputs": [],
   "source": [
    "fighter_stats_df = pd.DataFrame(d_fighter)\n",
    "fighter_stats_df.to_csv('unprocessed_fighter_data.csv', index = False)"
   ]
  },
  {
   "cell_type": "markdown",
   "id": "relevant-concentrate",
   "metadata": {},
   "source": [
    "# Cleaning the fighter dataset\n",
    "Looking to add a few columns as well as clean up the fight data."
   ]
  },
  {
   "cell_type": "code",
   "execution_count": 4,
   "id": "roman-ferry",
   "metadata": {},
   "outputs": [],
   "source": [
    "fighter_stats_df = pd.read_csv('unprocessed_fighter_data.csv')\n",
    "fight_stats_df = pd.read_csv('processed_fight_data.csv')"
   ]
  },
  {
   "cell_type": "code",
   "execution_count": 5,
   "id": "lovely-somerset",
   "metadata": {},
   "outputs": [],
   "source": [
    "fighter_stats_df['avg_ctrl'] = None"
   ]
  },
  {
   "cell_type": "code",
   "execution_count": 6,
   "id": "infectious-mailman",
   "metadata": {},
   "outputs": [
    {
     "name": "stderr",
     "output_type": "stream",
     "text": [
      "100%|██████████████████████████████████████████████████████████████████████████████| 1713/1713 [01:59<00:00, 14.31it/s]\n"
     ]
    }
   ],
   "source": [
    "#Adding avg control time\n",
    "for fighter in tqdm(fighter_stats_df['fighter_name']):\n",
    "    total_ctrl = 0.0\n",
    "    counter = 0\n",
    "    for i in range(len(fight_stats_df)):\n",
    "        if fighter == fight_stats_df['r_fighter'][i]:\n",
    "            total_ctrl += fight_stats_df['r_ctrl'][i]\n",
    "            counter +=1\n",
    "        elif fighter == fight_stats_df['b_fighter'][i]:\n",
    "            total_ctrl += fight_stats_df['b_ctrl'][i]\n",
    "            counter +=1\n",
    "    if counter == 0:\n",
    "        fighter_stats_df.loc[fighter_stats_df['fighter_name']==fighter, 'avg_ctrl'] = 0\n",
    "    else:\n",
    "        fighter_stats_df.loc[fighter_stats_df['fighter_name']==fighter, 'avg_ctrl'] = round(total_ctrl/counter, 2)"
   ]
  },
  {
   "cell_type": "code",
   "execution_count": 9,
   "id": "judicial-south",
   "metadata": {},
   "outputs": [],
   "source": [
    "#adding weightclass to the fighter_df\n",
    "def weight_class(weight):\n",
    "    if weight <= 115:\n",
    "        return 'Strawweight'\n",
    "    elif weight<= 125:\n",
    "        return 'Flyweight'\n",
    "    elif weight <= 135:\n",
    "        return 'Bantamweight'\n",
    "    elif weight <=145:\n",
    "        return 'Featherweight'\n",
    "    elif weight <=155:\n",
    "        return 'Lightweight'\n",
    "    elif weight <=170:\n",
    "        return 'Welterweight'\n",
    "    elif weight <= 185:\n",
    "        return 'Middleweight'\n",
    "    elif weight <= 205:\n",
    "        return 'Light Heavyweight'\n",
    "    elif weight <=265:\n",
    "        return 'Heavyweight'"
   ]
  },
  {
   "cell_type": "code",
   "execution_count": 12,
   "id": "knowing-projector",
   "metadata": {},
   "outputs": [],
   "source": [
    "#applying the function to add the new column\n",
    "fighter_stats_df['weight_class'] = fighter_stats_df['weight_lbs'].apply(weight_class)"
   ]
  },
  {
   "cell_type": "code",
   "execution_count": 13,
   "id": "legal-daughter",
   "metadata": {},
   "outputs": [],
   "source": [
    "#converting to categorical variables\n",
    "fighter_stats_df['weight_class'] = fighter_stats_df['weight_class'].astype('category')\n",
    "fighter_stats_df['stance'] = fighter_stats_df['stance'].astype('category')"
   ]
  },
  {
   "cell_type": "code",
   "execution_count": 14,
   "id": "fatal-projector",
   "metadata": {},
   "outputs": [],
   "source": [
    "fighter_stats_df.to_csv('processed_fighter_data.csv', index = False)"
   ]
  }
 ],
 "metadata": {
  "kernelspec": {
   "display_name": "Python 3",
   "language": "python",
   "name": "python3"
  },
  "language_info": {
   "codemirror_mode": {
    "name": "ipython",
    "version": 3
   },
   "file_extension": ".py",
   "mimetype": "text/x-python",
   "name": "python",
   "nbconvert_exporter": "python",
   "pygments_lexer": "ipython3",
   "version": "3.7.6"
  }
 },
 "nbformat": 4,
 "nbformat_minor": 5
}
